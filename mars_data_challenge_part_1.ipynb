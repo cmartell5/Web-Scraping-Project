{
 "cells": [
  {
   "cell_type": "code",
   "execution_count": 1,
   "metadata": {},
   "outputs": [],
   "source": [
    "# scrape the Mars News website by using Splinter and Beautiful Soup\n",
    "\n",
    "from pprint import pprint\n",
    "\n",
    "import pymongo\n",
    "import requests\n",
    "from bs4 import BeautifulSoup\n",
    "from splinter import Browser\n",
    "from webdriver_manager.chrome import ChromeDriverManager"
   ]
  },
  {
   "cell_type": "code",
   "execution_count": 2,
   "metadata": {},
   "outputs": [],
   "source": [
    "# setup Splinter\n",
    "executable_path = {'executable_path': ChromeDriverManager().install()}\n",
    "browser = Browser('chrome', **executable_path, headless=False)"
   ]
  },
  {
   "cell_type": "code",
   "execution_count": 3,
   "metadata": {},
   "outputs": [],
   "source": [
    "# URL of webpage to be scraped\n",
    "url = \"https://redplanetscience.com\"\n",
    "browser.visit(url)\n",
    "soup = BeautifulSoup(browser.html, \"html.parser\")"
   ]
  },
  {
   "cell_type": "code",
   "execution_count": 4,
   "metadata": {},
   "outputs": [
    {
     "name": "stdout",
     "output_type": "stream",
     "text": [
      "[{'preview': 'Vast areas of the Martian night sky pulse in ultraviolet light, '\n",
      "             'according to images from NASA’s MAVEN spacecraft. The results '\n",
      "             'are being used to illuminate complex circulation patterns in the '\n",
      "             'Martian atmosphere.',\n",
      "  'title': \"NASA's MAVEN Observes Martian Night Sky Pulsing in Ultraviolet \"\n",
      "           'Light'},\n",
      " {'preview': 'Team members searched for signs of ancient microscopic life '\n",
      "             \"there, just as NASA's latest rover will on the Red Planet next \"\n",
      "             'year.',\n",
      "  'title': 'NASA Perseverance Mars Rover Scientists Train in the Nevada '\n",
      "           'Desert'},\n",
      " {'preview': 'NASA’s MAVEN spacecraft has discovered “layers” and “rifts” in '\n",
      "             'the electrically charged part of the upper atmosphere of Mars.',\n",
      "  'title': \"NASA's MAVEN Explores Mars to Understand Radio Interference at \"\n",
      "           'Earth'},\n",
      " {'preview': \"NASA's next rover to the Red Planet is slated to launch no \"\n",
      "             'earlier than July 30. These highlights will get you up to speed '\n",
      "             'on the ambitious mission.',\n",
      "  'title': '7 Things to Know About the Mars 2020 Perseverance Rover Mission'},\n",
      " {'preview': 'Sometimes half measures can be a good thing – especially on a '\n",
      "             \"journey this long. The agency's latest rover only has about 146 \"\n",
      "             'million miles left to reach its destination.',\n",
      "  'title': \"NASA's Perseverance Rover Is Midway to Mars \"},\n",
      " {'preview': 'An instrument called SHERLOC will, with the help of its partner '\n",
      "             'WATSON, hunt for signs of ancient life by detecting organic '\n",
      "             'molecules and minerals.',\n",
      "  'title': \"The Detective Aboard NASA's Perseverance Rover\"},\n",
      " {'preview': 'In a Q&A, spacesuit designer Amy Ross explains how five samples, '\n",
      "             'including a piece of helmet visor, will be tested aboard the '\n",
      "             'rover, which is targeting a July 30 launch. ',\n",
      "  'title': \"NASA's Perseverance Rover Will Carry First Spacesuit Materials to \"\n",
      "           'Mars'},\n",
      " {'preview': 'The system will be collecting and storing Martian rock and soil. '\n",
      "             'Its installation marks another milestone in the march toward the '\n",
      "             'July launch period.',\n",
      "  'title': \"NASA's Mars Perseverance Rover Gets Its Sample Handling System\"},\n",
      " {'preview': 'Stacking spacecraft components on top of each other is one of '\n",
      "             'the final assembly steps before a mission launches to the Red '\n",
      "             'Planet. ',\n",
      "  'title': \"NASA's Perseverance Rover Mission Getting in Shape for Launch\"},\n",
      " {'preview': 'The leadership council for Mars 2020 science added two new '\n",
      "             'members who represent the interests of scientists destined to '\n",
      "             'handle and study the first samples from Red Planet.',\n",
      "  'title': 'NASA Adds Return Sample Scientists to Mars 2020 Leadership Team'},\n",
      " {'preview': \"NASA's Perseverance rover carries a device to convert Martian \"\n",
      "             'air into oxygen that, if produced on a larger scale, could be '\n",
      "             'used not just for breathing, but also for fuel.',\n",
      "  'title': 'MOXIE Could Help Future Rockets Launch Off Mars'},\n",
      " {'preview': 'To go along with the stunning 1.8-billion-pixel image, a new '\n",
      "             'video offers a sweeping view of the Red Planet.',\n",
      "  'title': \"NASA's Curiosity Mars Rover Snaps Its Highest-Resolution Panorama \"\n",
      "           'Yet'},\n",
      " {'preview': \"Now that the lander's robotic arm has helped the mole get \"\n",
      "             'underground, it will resume science activities that have been on '\n",
      "             'hold.',\n",
      "  'title': \"NASA's InSight Flexes Its Arm While Its 'Mole' Hits Pause\"},\n",
      " {'preview': \"From rockets to rovers, JPL's Spacecraft Assembly Facility has \"\n",
      "             \"been at the center of robotic spaceflight. Here's a closer look \"\n",
      "             'at what makes it so special.',\n",
      "  'title': 'Space History Is Made in This NASA Robot Factory'},\n",
      " {'preview': 'Efforts to save the heat probe continue.',\n",
      "  'title': \"InSight's 'Mole' Team Peers into the Pit\"}]\n"
     ]
    }
   ],
   "source": [
    "# get all the articles from the landing page\n",
    "all_articles_results = soup.find_all('div', class_='list_text')\n",
    "article_list = []\n",
    "for article in all_articles_results:\n",
    "    # extract the title and preview of each article\n",
    "    title = article.find('div', class_='content_title').text\n",
    "    preview = article.find('div', class_='article_teaser_body').text\n",
    "    article_dict = {\n",
    "        'title' : title,\n",
    "        'preview' : preview\n",
    "    }\n",
    "    article_list.append(article_dict)\n",
    "pprint(article_list)"
   ]
  },
  {
   "cell_type": "code",
   "execution_count": 5,
   "metadata": {},
   "outputs": [],
   "source": [
    "# connect to mongodb\n",
    "client = pymongo.MongoClient('mongodb://localhost:27017')\n",
    "db = client.mars_news_db"
   ]
  },
  {
   "cell_type": "code",
   "execution_count": 6,
   "metadata": {},
   "outputs": [
    {
     "data": {
      "text/plain": [
       "<pymongo.results.InsertManyResult at 0x153c7bf4700>"
      ]
     },
     "execution_count": 6,
     "metadata": {},
     "output_type": "execute_result"
    }
   ],
   "source": [
    "# store the list of articles in the database\n",
    "db.news_preview.insert_many(article_list)"
   ]
  }
 ],
 "metadata": {
  "kernelspec": {
   "display_name": "Python 3.9.12 ('base')",
   "language": "python",
   "name": "python3"
  },
  "language_info": {
   "codemirror_mode": {
    "name": "ipython",
    "version": 3
   },
   "file_extension": ".py",
   "mimetype": "text/x-python",
   "name": "python",
   "nbconvert_exporter": "python",
   "pygments_lexer": "ipython3",
   "version": "3.9.12"
  },
  "orig_nbformat": 4,
  "vscode": {
   "interpreter": {
    "hash": "fb833273add3e7c60eb33c0608260b79a61e072ade6f02cc8d07b0a26eef8ab8"
   }
  }
 },
 "nbformat": 4,
 "nbformat_minor": 2
}
